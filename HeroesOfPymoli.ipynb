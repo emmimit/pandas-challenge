{
 "cells": [
  {
   "cell_type": "markdown",
   "metadata": {},
   "source": [
    "### Note\n",
    "* Instructions have been included for each segment. You do not have to follow them exactly, but they are included to help you think through the steps."
   ]
  },
  {
   "cell_type": "code",
   "execution_count": 17,
   "metadata": {},
   "outputs": [],
   "source": [
    "# Dependencies and Setup\n",
    "import pandas as pd\n",
    "\n",
    "# File to Load (Remember to Change These)\n",
    "file_to_load = \"Resources/purchase_data.csv\"\n",
    "\n",
    "# Read Purchasing File and store into Pandas data frame\n",
    "df_purchase_data = pd.read_csv(file_to_load)"
   ]
  },
  {
   "cell_type": "markdown",
   "metadata": {},
   "source": [
    "## Player Count"
   ]
  },
  {
   "cell_type": "markdown",
   "metadata": {},
   "source": [
    "* Display the total number of players\n"
   ]
  },
  {
   "cell_type": "code",
   "execution_count": 18,
   "metadata": {},
   "outputs": [
    {
     "data": {
      "text/html": [
       "<div>\n",
       "<style scoped>\n",
       "    .dataframe tbody tr th:only-of-type {\n",
       "        vertical-align: middle;\n",
       "    }\n",
       "\n",
       "    .dataframe tbody tr th {\n",
       "        vertical-align: top;\n",
       "    }\n",
       "\n",
       "    .dataframe thead th {\n",
       "        text-align: right;\n",
       "    }\n",
       "</style>\n",
       "<table border=\"1\" class=\"dataframe\">\n",
       "  <thead>\n",
       "    <tr style=\"text-align: right;\">\n",
       "      <th></th>\n",
       "      <th>Total Players</th>\n",
       "    </tr>\n",
       "  </thead>\n",
       "  <tbody>\n",
       "    <tr>\n",
       "      <th>0</th>\n",
       "      <td>576</td>\n",
       "    </tr>\n",
       "  </tbody>\n",
       "</table>\n",
       "</div>"
      ],
      "text/plain": [
       "   Total Players\n",
       "0            576"
      ]
     },
     "execution_count": 18,
     "metadata": {},
     "output_type": "execute_result"
    }
   ],
   "source": [
    "player = df_purchase_data[\"SN\"].unique()\n",
    "\n",
    "total_players = len(player)\n",
    "\n",
    "total_players_df = pd.DataFrame({\"Total Players\": [total_players]})\n",
    "total_players_df"
   ]
  },
  {
   "cell_type": "markdown",
   "metadata": {},
   "source": [
    "## Purchasing Analysis (Total)"
   ]
  },
  {
   "cell_type": "markdown",
   "metadata": {},
   "source": [
    "* Run basic calculations to obtain number of unique items, average price, etc.\n",
    "\n",
    "\n",
    "* Create a summary data frame to hold the results\n",
    "\n",
    "\n",
    "* Optional: give the displayed data cleaner formatting\n",
    "\n",
    "\n",
    "* Display the summary data frame\n"
   ]
  },
  {
   "cell_type": "code",
   "execution_count": 19,
   "metadata": {
    "scrolled": true
   },
   "outputs": [
    {
     "name": "stdout",
     "output_type": "stream",
     "text": [
      "179\n",
      "3.0509871794871795\n",
      "780\n",
      "2379.77\n"
     ]
    },
    {
     "data": {
      "text/html": [
       "<div>\n",
       "<style scoped>\n",
       "    .dataframe tbody tr th:only-of-type {\n",
       "        vertical-align: middle;\n",
       "    }\n",
       "\n",
       "    .dataframe tbody tr th {\n",
       "        vertical-align: top;\n",
       "    }\n",
       "\n",
       "    .dataframe thead th {\n",
       "        text-align: right;\n",
       "    }\n",
       "</style>\n",
       "<table border=\"1\" class=\"dataframe\">\n",
       "  <thead>\n",
       "    <tr style=\"text-align: right;\">\n",
       "      <th></th>\n",
       "      <th>Unique Items</th>\n",
       "      <th>Average Price</th>\n",
       "      <th>Total Purchases</th>\n",
       "      <th>Total Revenue</th>\n",
       "    </tr>\n",
       "  </thead>\n",
       "  <tbody>\n",
       "    <tr>\n",
       "      <th>0</th>\n",
       "      <td>179</td>\n",
       "      <td>$3.05</td>\n",
       "      <td>$780</td>\n",
       "      <td>$2,379.77</td>\n",
       "    </tr>\n",
       "  </tbody>\n",
       "</table>\n",
       "</div>"
      ],
      "text/plain": [
       "   Unique Items Average Price Total Purchases Total Revenue\n",
       "0           179         $3.05            $780     $2,379.77"
      ]
     },
     "execution_count": 19,
     "metadata": {},
     "output_type": "execute_result"
    }
   ],
   "source": [
    "# Counting total number of unique items\n",
    "item = df_purchase_data[\"Item ID\"].unique()\n",
    "item_count = len(item)\n",
    "print (item_count)\n",
    "\n",
    "# Calculating average purchase price\n",
    "avg_price = df_purchase_data[\"Price\"].mean()\n",
    "print(avg_price)\n",
    "\n",
    "#Total number of purchases\n",
    "total_purchases = len(df_purchase_data[\"Purchase ID\"])\n",
    "print(total_purchases)\n",
    "\n",
    "# Total revenue\n",
    "revenue = df_purchase_data[\"Price\"].sum()\n",
    "print(revenue)\n",
    "\n",
    "# Formatting and displaying the summary\n",
    "summary_df = pd.DataFrame({\"Unique Items\": [item_count], \n",
    "                        \"Average Price\": [avg_price], \n",
    "                        \"Total Purchases\": [total_purchases], \n",
    "                        \"Total Revenue\": [revenue]})\n",
    "\n",
    "summary_df[\"Average Price\"] = summary_df[\"Average Price\"].map(\"${:,.2f}\".format)\n",
    "summary_df[\"Total Purchases\"] = summary_df[\"Total Purchases\"].map(\"${:,}\".format)\n",
    "summary_df[\"Total Revenue\"] = summary_df[\"Total Revenue\"].map(\"${:,.2f}\".format)\n",
    "summary_df = summary_df.loc[:, [\"Unique Items\", \"Average Price\", \"Total Purchases\", \"Total Revenue\"]]\n",
    "\n",
    "summary_df\n",
    "\n"
   ]
  },
  {
   "cell_type": "markdown",
   "metadata": {},
   "source": [
    "## Gender Demographics"
   ]
  },
  {
   "cell_type": "markdown",
   "metadata": {},
   "source": [
    "* Percentage and Count of Male Players\n",
    "\n",
    "\n",
    "* Percentage and Count of Female Players\n",
    "\n",
    "\n",
    "* Percentage and Count of Other / Non-Disclosed\n",
    "\n",
    "\n"
   ]
  },
  {
   "cell_type": "code",
   "execution_count": 20,
   "metadata": {},
   "outputs": [
    {
     "name": "stdout",
     "output_type": "stream",
     "text": [
      "                       Total Count Percentage of Players\n",
      "Gender                                                  \n",
      "Female                          81                14.06%\n",
      "Male                           484                84.03%\n",
      "Other / Non-Disclosed           11                 1.91%\n"
     ]
    }
   ],
   "source": [
    "gender_group = df_purchase_data.groupby(\"Gender\")\n",
    "count_by_gender_group = gender_group[\"SN\"].nunique()\n",
    "gender_percent = count_by_gender_group / total_players * 100\n",
    "gender_demographics = pd.DataFrame({\n",
    "    \"Total Count\" : count_by_gender_group,\n",
    "    \"Percentage of Players\" : gender_percent\n",
    "})\n",
    "\n",
    "print(gender_demographics.to_string(formatters={\"Percentage of Players\" : \"{:,.2f}%\".format}))\n",
    "\n",
    "\n",
    "\n",
    "\n"
   ]
  },
  {
   "cell_type": "markdown",
   "metadata": {},
   "source": [
    "\n",
    "## Purchasing Analysis (Gender)"
   ]
  },
  {
   "cell_type": "markdown",
   "metadata": {},
   "source": [
    "* Run basic calculations to obtain purchase count, avg. purchase price, avg. purchase total per person etc. by gender\n",
    "\n",
    "\n",
    "\n",
    "\n",
    "* Create a summary data frame to hold the results\n",
    "\n",
    "\n",
    "* Optional: give the displayed data cleaner formatting\n",
    "\n",
    "\n",
    "* Display the summary data frame"
   ]
  },
  {
   "cell_type": "code",
   "execution_count": 21,
   "metadata": {},
   "outputs": [
    {
     "name": "stdout",
     "output_type": "stream",
     "text": [
      "                       Purchase Count Average Purchase Price Total Purchase Value  Average Total Per Person\n",
      "Gender                                                                                                     \n",
      "Female                            113                  $3.20              $361.94                  4.468395\n",
      "Male                              652                  $3.02            $1,967.64                  4.065372\n",
      "Other / Non-Disclosed              15                  $3.35               $50.19                  4.562727\n"
     ]
    }
   ],
   "source": [
    "gender_group_total_purchases = gender_group[\"Purchase ID\"].count()\n",
    "gender_group_avg_price = gender_group[\"Price\"].mean()\n",
    "gender_group_revenue = gender_group[\"Price\"].sum()\n",
    "gender_group_avg_total_purchase_person = gender_group_revenue / count_by_gender_group\n",
    "\n",
    "purchasing_analysis_gender_df = pd.DataFrame({\"Purchase Count\" : gender_group_total_purchases,\n",
    "                                              \"Average Purchase Price\" : gender_group_avg_price,\n",
    "                                              \"Total Purchase Value\" : gender_group_revenue,\n",
    "                                               \"Average Total Per Person\" : gender_group_avg_total_purchase_person})\n",
    "print(purchasing_analysis_gender_df.to_string(formatters={\"Average Purchase Price\" : \"${:,.2f}\".format,\n",
    "                                                          \"Total Purchase Value\" : \"${:,.2f}\".format,\n",
    "                                                          \"Average Total per Person\" : \"${:,.2f}\".format}))"
   ]
  },
  {
   "cell_type": "markdown",
   "metadata": {},
   "source": [
    "## Age Demographics"
   ]
  },
  {
   "cell_type": "markdown",
   "metadata": {},
   "source": [
    "* Establish bins for ages\n",
    "\n",
    "\n",
    "* Categorize the existing players using the age bins. Hint: use pd.cut()\n",
    "\n",
    "\n",
    "* Calculate the numbers and percentages by age group\n",
    "\n",
    "\n",
    "* Create a summary data frame to hold the results\n",
    "\n",
    "\n",
    "* Optional: round the percentage column to two decimal points\n",
    "\n",
    "\n",
    "* Display Age Demographics Table\n"
   ]
  },
  {
   "cell_type": "code",
   "execution_count": 22,
   "metadata": {},
   "outputs": [
    {
     "name": "stdout",
     "output_type": "stream",
     "text": [
      "            Total Count Percentage of Players\n",
      "Age Groups                                   \n",
      "<10                  17                 2.95%\n",
      "10-14                22                 3.82%\n",
      "15-19               107                18.58%\n",
      "20-24               258                44.79%\n",
      "25-29                77                13.37%\n",
      "30-34                52                 9.03%\n",
      "35-39                31                 5.38%\n",
      "40+                  12                 2.08%\n"
     ]
    }
   ],
   "source": [
    "# Establish bins for ages\n",
    "age_bins = [0, 9, 14, 19, 24, 29, 34, 39, 1000]\n",
    "age_groups = [\"<10\", \"10-14\", \"15-19\", \"20-24\", \"25-29\", \"30-34\", \"35-39\", \"40+\"]\n",
    "\n",
    "# Categorizing the existing players\n",
    "df_purchase_data[\"Age Groups\"] = pd.cut(df_purchase_data[\"Age\"], age_bins, labels = age_groups, include_lowest=True)\n",
    "df_purchase_data\n",
    "\n",
    "age_group = df_purchase_data.groupby([\"Age Groups\"])\n",
    "# Calculating the numbers and percentages by age group\n",
    "count_by_age_group = age_group[\"SN\"].nunique()\n",
    "age_groups_percent = count_by_age_group / total_players * 100\n",
    "\n",
    "# Rounding up the percentage column and display of Age Demographics Table\n",
    "age_demographics  = pd.DataFrame({\"Total Count\" : count_by_age_group,\n",
    "                                    \"Percentage of Players\" : age_groups_percent})\n",
    "print(age_demographics.to_string(formatters={\"Percentage of Players\" : \"{:,.2f}%\".format}))\n",
    "\n",
    "\n",
    "\n"
   ]
  },
  {
   "cell_type": "markdown",
   "metadata": {},
   "source": [
    "## Purchasing Analysis (Age)"
   ]
  },
  {
   "cell_type": "markdown",
   "metadata": {},
   "source": [
    "* Bin the purchase_data data frame by age\n",
    "\n",
    "\n",
    "* Run basic calculations to obtain purchase count, avg. purchase price, avg. purchase total per person etc. in the table below\n",
    "\n",
    "\n",
    "* Create a summary data frame to hold the results\n",
    "\n",
    "\n",
    "* Optional: give the displayed data cleaner formatting\n",
    "\n",
    "\n",
    "* Display the summary data frame"
   ]
  },
  {
   "cell_type": "code",
   "execution_count": 23,
   "metadata": {},
   "outputs": [
    {
     "data": {
      "text/html": [
       "<div>\n",
       "<style scoped>\n",
       "    .dataframe tbody tr th:only-of-type {\n",
       "        vertical-align: middle;\n",
       "    }\n",
       "\n",
       "    .dataframe tbody tr th {\n",
       "        vertical-align: top;\n",
       "    }\n",
       "\n",
       "    .dataframe thead th {\n",
       "        text-align: right;\n",
       "    }\n",
       "</style>\n",
       "<table border=\"1\" class=\"dataframe\">\n",
       "  <thead>\n",
       "    <tr style=\"text-align: right;\">\n",
       "      <th></th>\n",
       "      <th>Purchase Count</th>\n",
       "      <th>Average Purchase Price</th>\n",
       "      <th>Total Purchase Value</th>\n",
       "      <th>Average Total Purchase per Person</th>\n",
       "    </tr>\n",
       "    <tr>\n",
       "      <th>Age Groups</th>\n",
       "      <th></th>\n",
       "      <th></th>\n",
       "      <th></th>\n",
       "      <th></th>\n",
       "    </tr>\n",
       "  </thead>\n",
       "  <tbody>\n",
       "    <tr>\n",
       "      <th>&lt;10</th>\n",
       "      <td>23</td>\n",
       "      <td>$3.35</td>\n",
       "      <td>$77.13</td>\n",
       "      <td>$4.54</td>\n",
       "    </tr>\n",
       "    <tr>\n",
       "      <th>10-14</th>\n",
       "      <td>28</td>\n",
       "      <td>$2.96</td>\n",
       "      <td>$82.78</td>\n",
       "      <td>$3.76</td>\n",
       "    </tr>\n",
       "    <tr>\n",
       "      <th>15-19</th>\n",
       "      <td>136</td>\n",
       "      <td>$3.04</td>\n",
       "      <td>$412.89</td>\n",
       "      <td>$3.86</td>\n",
       "    </tr>\n",
       "    <tr>\n",
       "      <th>20-24</th>\n",
       "      <td>365</td>\n",
       "      <td>$3.05</td>\n",
       "      <td>$1,114.06</td>\n",
       "      <td>$4.32</td>\n",
       "    </tr>\n",
       "    <tr>\n",
       "      <th>25-29</th>\n",
       "      <td>101</td>\n",
       "      <td>$2.90</td>\n",
       "      <td>$293.00</td>\n",
       "      <td>$3.81</td>\n",
       "    </tr>\n",
       "    <tr>\n",
       "      <th>30-34</th>\n",
       "      <td>73</td>\n",
       "      <td>$2.93</td>\n",
       "      <td>$214.00</td>\n",
       "      <td>$4.12</td>\n",
       "    </tr>\n",
       "    <tr>\n",
       "      <th>35-39</th>\n",
       "      <td>41</td>\n",
       "      <td>$3.60</td>\n",
       "      <td>$147.67</td>\n",
       "      <td>$4.76</td>\n",
       "    </tr>\n",
       "    <tr>\n",
       "      <th>40+</th>\n",
       "      <td>13</td>\n",
       "      <td>$2.94</td>\n",
       "      <td>$38.24</td>\n",
       "      <td>$3.19</td>\n",
       "    </tr>\n",
       "  </tbody>\n",
       "</table>\n",
       "</div>"
      ],
      "text/plain": [
       "            Purchase Count Average Purchase Price Total Purchase Value  \\\n",
       "Age Groups                                                               \n",
       "<10                     23                  $3.35               $77.13   \n",
       "10-14                   28                  $2.96               $82.78   \n",
       "15-19                  136                  $3.04              $412.89   \n",
       "20-24                  365                  $3.05            $1,114.06   \n",
       "25-29                  101                  $2.90              $293.00   \n",
       "30-34                   73                  $2.93              $214.00   \n",
       "35-39                   41                  $3.60              $147.67   \n",
       "40+                     13                  $2.94               $38.24   \n",
       "\n",
       "           Average Total Purchase per Person  \n",
       "Age Groups                                    \n",
       "<10                                    $4.54  \n",
       "10-14                                  $3.76  \n",
       "15-19                                  $3.86  \n",
       "20-24                                  $4.32  \n",
       "25-29                                  $3.81  \n",
       "30-34                                  $4.12  \n",
       "35-39                                  $4.76  \n",
       "40+                                    $3.19  "
      ]
     },
     "execution_count": 23,
     "metadata": {},
     "output_type": "execute_result"
    }
   ],
   "source": [
    "# Calculating purchase count, average purchase price, average purchase total per person\n",
    "purchase_count = age_group[\"Purchase ID\"].count()\n",
    "avg_price = age_group[\"Price\"].mean()\n",
    "total_purchases = age_group[\"Price\"].sum()\n",
    "avg_total_purchase_pp = total_purchases / count_by_age_group\n",
    "\n",
    "# Creating a summary DataFrame\n",
    "age_purchase_df = pd.DataFrame ({\"Purchase Count\": purchase_count,\n",
    "                                 \"Average Purchase Price\": avg_price,\n",
    "                                 \"Total Purchase Value\": total_purchases,\n",
    "                                  \"Average Total Purchase per Person\": avg_total_purchase_pp})\n",
    "\n",
    "# Implementing clear format and displaying the summary DataFrame\n",
    "age_purchase_df[\"Average Purchase Price\"] = age_purchase_df[\"Average Purchase Price\"].map(\"${:,.2f}\".format)\n",
    "age_purchase_df[\"Total Purchase Value\"] = age_purchase_df[\"Total Purchase Value\"].map(\"${:,.2f}\".format)\n",
    "age_purchase_df[\"Average Total Purchase per Person\"] = age_purchase_df[\"Average Total Purchase per Person\"].map(\"${:,.2f}\".format)\n",
    "\n",
    "age_purchase_df[[\"Purchase Count\", \"Average Purchase Price\", \"Total Purchase Value\", \"Average Total Purchase per Person\"]]\n",
    "\n"
   ]
  },
  {
   "cell_type": "markdown",
   "metadata": {},
   "source": [
    "## Top Spenders"
   ]
  },
  {
   "cell_type": "markdown",
   "metadata": {},
   "source": [
    "* Run basic calculations to obtain the results in the table below\n",
    "\n",
    "\n",
    "* Create a summary data frame to hold the results\n",
    "\n",
    "\n",
    "* Sort the total purchase value column in descending order\n",
    "\n",
    "\n",
    "* Optional: give the displayed data cleaner formatting\n",
    "\n",
    "\n",
    "* Display a preview of the summary data frame\n",
    "\n"
   ]
  },
  {
   "cell_type": "code",
   "execution_count": 24,
   "metadata": {},
   "outputs": [
    {
     "data": {
      "text/html": [
       "<div>\n",
       "<style scoped>\n",
       "    .dataframe tbody tr th:only-of-type {\n",
       "        vertical-align: middle;\n",
       "    }\n",
       "\n",
       "    .dataframe tbody tr th {\n",
       "        vertical-align: top;\n",
       "    }\n",
       "\n",
       "    .dataframe thead th {\n",
       "        text-align: right;\n",
       "    }\n",
       "</style>\n",
       "<table border=\"1\" class=\"dataframe\">\n",
       "  <thead>\n",
       "    <tr style=\"text-align: right;\">\n",
       "      <th></th>\n",
       "      <th>Purchase Count</th>\n",
       "      <th>Average Purchase Price</th>\n",
       "      <th>Total Purchase Value</th>\n",
       "    </tr>\n",
       "    <tr>\n",
       "      <th>SN</th>\n",
       "      <th></th>\n",
       "      <th></th>\n",
       "      <th></th>\n",
       "    </tr>\n",
       "  </thead>\n",
       "  <tbody>\n",
       "    <tr>\n",
       "      <th>Lisosia93</th>\n",
       "      <td>5</td>\n",
       "      <td>$3.79</td>\n",
       "      <td>$18.96</td>\n",
       "    </tr>\n",
       "    <tr>\n",
       "      <th>Idastidru52</th>\n",
       "      <td>4</td>\n",
       "      <td>$3.86</td>\n",
       "      <td>$15.45</td>\n",
       "    </tr>\n",
       "    <tr>\n",
       "      <th>Chamjask73</th>\n",
       "      <td>3</td>\n",
       "      <td>$4.61</td>\n",
       "      <td>$13.83</td>\n",
       "    </tr>\n",
       "    <tr>\n",
       "      <th>Iral74</th>\n",
       "      <td>4</td>\n",
       "      <td>$3.40</td>\n",
       "      <td>$13.62</td>\n",
       "    </tr>\n",
       "    <tr>\n",
       "      <th>Iskadarya95</th>\n",
       "      <td>3</td>\n",
       "      <td>$4.37</td>\n",
       "      <td>$13.10</td>\n",
       "    </tr>\n",
       "  </tbody>\n",
       "</table>\n",
       "</div>"
      ],
      "text/plain": [
       "             Purchase Count Average Purchase Price Total Purchase Value\n",
       "SN                                                                     \n",
       "Lisosia93                 5                  $3.79               $18.96\n",
       "Idastidru52               4                  $3.86               $15.45\n",
       "Chamjask73                3                  $4.61               $13.83\n",
       "Iral74                    4                  $3.40               $13.62\n",
       "Iskadarya95               3                  $4.37               $13.10"
      ]
     },
     "execution_count": 24,
     "metadata": {},
     "output_type": "execute_result"
    }
   ],
   "source": [
    "top_spenders_group_df = df_purchase_data.groupby([\"SN\"])\n",
    "\n",
    "purchase_count = top_spenders_group_df[\"Purchase ID\"].count()\n",
    "avg_purchase_price = top_spenders_group_df[\"Price\"].mean()\n",
    "total_purchase_value = top_spenders_group_df[\"Price\"].sum()\n",
    "\n",
    "# Creating a summary DataFrame\n",
    "top_spenders_df = pd.DataFrame ({\"Purchase Count\": purchase_count,\n",
    "                              \"Average Purchase Price\": avg_purchase_price,\n",
    "                              \"Total Purchase Value\": total_purchase_value})\n",
    "\n",
    "# Sorting the total purchase value column in descending order\n",
    "top_spenders_df = top_spenders_df.sort_values([\"Total Purchase Value\"], ascending=False).head()\n",
    "\n",
    "# Implementing clear format and displaying the summary DataFrame\n",
    "top_spenders_df[\"Average Purchase Price\"] = top_spenders_df[\"Average Purchase Price\"].map(\"${:,.2f}\".format)\n",
    "top_spenders_df[\"Total Purchase Value\"] = top_spenders_df[\"Total Purchase Value\"].map(\"${:,.2f}\".format)\n",
    "\n",
    "top_spenders_df[[\"Purchase Count\", \"Average Purchase Price\", \"Total Purchase Value\"]]\n"
   ]
  },
  {
   "cell_type": "markdown",
   "metadata": {},
   "source": [
    "## Most Popular Items"
   ]
  },
  {
   "cell_type": "markdown",
   "metadata": {},
   "source": [
    "* Retrieve the Item ID, Item Name, and Item Price columns\n",
    "\n",
    "\n",
    "* Group by Item ID and Item Name. Perform calculations to obtain purchase count, item price, and total purchase value\n",
    "\n",
    "\n",
    "* Create a summary data frame to hold the results\n",
    "\n",
    "\n",
    "* Sort the purchase count column in descending order\n",
    "\n",
    "\n",
    "* Optional: give the displayed data cleaner formatting\n",
    "\n",
    "\n",
    "* Display a preview of the summary data frame\n",
    "\n"
   ]
  },
  {
   "cell_type": "code",
   "execution_count": 25,
   "metadata": {},
   "outputs": [
    {
     "data": {
      "text/html": [
       "<div>\n",
       "<style scoped>\n",
       "    .dataframe tbody tr th:only-of-type {\n",
       "        vertical-align: middle;\n",
       "    }\n",
       "\n",
       "    .dataframe tbody tr th {\n",
       "        vertical-align: top;\n",
       "    }\n",
       "\n",
       "    .dataframe thead th {\n",
       "        text-align: right;\n",
       "    }\n",
       "</style>\n",
       "<table border=\"1\" class=\"dataframe\">\n",
       "  <thead>\n",
       "    <tr style=\"text-align: right;\">\n",
       "      <th></th>\n",
       "      <th></th>\n",
       "      <th>Total Purchase Value</th>\n",
       "      <th>Item Price</th>\n",
       "      <th>Purchase Count</th>\n",
       "    </tr>\n",
       "    <tr>\n",
       "      <th>Item ID</th>\n",
       "      <th>Item Name</th>\n",
       "      <th></th>\n",
       "      <th></th>\n",
       "      <th></th>\n",
       "    </tr>\n",
       "  </thead>\n",
       "  <tbody>\n",
       "    <tr>\n",
       "      <th>92</th>\n",
       "      <th>Final Critic</th>\n",
       "      <td>59.99</td>\n",
       "      <td>4.614615</td>\n",
       "      <td>13</td>\n",
       "    </tr>\n",
       "    <tr>\n",
       "      <th>178</th>\n",
       "      <th>Oathbreaker, Last Hope of the Breaking Storm</th>\n",
       "      <td>50.76</td>\n",
       "      <td>4.230000</td>\n",
       "      <td>12</td>\n",
       "    </tr>\n",
       "    <tr>\n",
       "      <th>145</th>\n",
       "      <th>Fiery Glass Crusader</th>\n",
       "      <td>41.22</td>\n",
       "      <td>4.580000</td>\n",
       "      <td>9</td>\n",
       "    </tr>\n",
       "    <tr>\n",
       "      <th>132</th>\n",
       "      <th>Persuasion</th>\n",
       "      <td>28.99</td>\n",
       "      <td>3.221111</td>\n",
       "      <td>9</td>\n",
       "    </tr>\n",
       "    <tr>\n",
       "      <th>108</th>\n",
       "      <th>Extraction, Quickblade Of Trembling Hands</th>\n",
       "      <td>31.77</td>\n",
       "      <td>3.530000</td>\n",
       "      <td>9</td>\n",
       "    </tr>\n",
       "  </tbody>\n",
       "</table>\n",
       "</div>"
      ],
      "text/plain": [
       "                                                      Total Purchase Value  \\\n",
       "Item ID Item Name                                                            \n",
       "92      Final Critic                                                 59.99   \n",
       "178     Oathbreaker, Last Hope of the Breaking Storm                 50.76   \n",
       "145     Fiery Glass Crusader                                         41.22   \n",
       "132     Persuasion                                                   28.99   \n",
       "108     Extraction, Quickblade Of Trembling Hands                    31.77   \n",
       "\n",
       "                                                      Item Price  \\\n",
       "Item ID Item Name                                                  \n",
       "92      Final Critic                                    4.614615   \n",
       "178     Oathbreaker, Last Hope of the Breaking Storm    4.230000   \n",
       "145     Fiery Glass Crusader                            4.580000   \n",
       "132     Persuasion                                      3.221111   \n",
       "108     Extraction, Quickblade Of Trembling Hands       3.530000   \n",
       "\n",
       "                                                      Purchase Count  \n",
       "Item ID Item Name                                                     \n",
       "92      Final Critic                                              13  \n",
       "178     Oathbreaker, Last Hope of the Breaking Storm              12  \n",
       "145     Fiery Glass Crusader                                       9  \n",
       "132     Persuasion                                                 9  \n",
       "108     Extraction, Quickblade Of Trembling Hands                  9  "
      ]
     },
     "execution_count": 25,
     "metadata": {},
     "output_type": "execute_result"
    }
   ],
   "source": [
    "# Retreiving the Item ID, Item Name, and Item Price columns\n",
    "popular_items_df = df_purchase_data.loc[:,[\"Item ID\", \"Item Name\", \"Price\"]]\n",
    "\n",
    "\n",
    "# Grouping by Item ID and Item Name\n",
    "purchase_items_purchase_count = popular_items_df.groupby([\"Item ID\", \"Item Name\"]).count()[\"Price\"].rename(\"Purchase Count\")\n",
    "purchase_items_price = popular_items_df.groupby([\"Item ID\", \"Item Name\"]).mean()[\"Price\"]\n",
    "purchase_items_total_purchase_value = popular_items_df.groupby([\"Item ID\", \"Item Name\"]).sum()[\"Price\"].rename(\"Total Purchase Value\")\n",
    "\n",
    "\n",
    "# Calculating purchase count, item price, and total purchase value\n",
    "popular_items_purchase_count = popular_items_df[\"Item ID\"].count()\n",
    "popular_items_price = popular_items_df[\"Price\"].mean()\n",
    "popular_items_total_purchase_value = popular_items_df[\"Price\"].sum()\n",
    "\n",
    "# Creating a summary DataFrame\n",
    "popular_items_df = pd.DataFrame({\"Total Purchase Value\" : purchase_items_total_purchase_value,\n",
    "                                 \"Item Price\" : purchase_items_price,\n",
    "                                 \"Purchase Count\" : purchase_items_purchase_count})\n",
    "item_data_count_sorted = popular_items_df.sort_values(\"Purchase Count\", ascending=False)\n",
    "\n",
    "item_data_count_sorted.head(5)\n",
    "\n"
   ]
  },
  {
   "cell_type": "markdown",
   "metadata": {},
   "source": [
    "## Most Profitable Items"
   ]
  },
  {
   "cell_type": "markdown",
   "metadata": {},
   "source": [
    "* Sort the above table by total purchase value in descending order\n",
    "\n",
    "\n",
    "* Optional: give the displayed data cleaner formatting\n",
    "\n",
    "\n",
    "* Display a preview of the data frame\n",
    "\n"
   ]
  },
  {
   "cell_type": "code",
   "execution_count": 26,
   "metadata": {
    "scrolled": true
   },
   "outputs": [
    {
     "data": {
      "text/html": [
       "<div>\n",
       "<style scoped>\n",
       "    .dataframe tbody tr th:only-of-type {\n",
       "        vertical-align: middle;\n",
       "    }\n",
       "\n",
       "    .dataframe tbody tr th {\n",
       "        vertical-align: top;\n",
       "    }\n",
       "\n",
       "    .dataframe thead th {\n",
       "        text-align: right;\n",
       "    }\n",
       "</style>\n",
       "<table border=\"1\" class=\"dataframe\">\n",
       "  <thead>\n",
       "    <tr style=\"text-align: right;\">\n",
       "      <th></th>\n",
       "      <th></th>\n",
       "      <th>Total Purchase Value</th>\n",
       "      <th>Item Price</th>\n",
       "      <th>Purchase Count</th>\n",
       "    </tr>\n",
       "    <tr>\n",
       "      <th>Item ID</th>\n",
       "      <th>Item Name</th>\n",
       "      <th></th>\n",
       "      <th></th>\n",
       "      <th></th>\n",
       "    </tr>\n",
       "  </thead>\n",
       "  <tbody>\n",
       "    <tr>\n",
       "      <th>92</th>\n",
       "      <th>Final Critic</th>\n",
       "      <td>$59.99</td>\n",
       "      <td>$4.61</td>\n",
       "      <td>13</td>\n",
       "    </tr>\n",
       "    <tr>\n",
       "      <th>178</th>\n",
       "      <th>Oathbreaker, Last Hope of the Breaking Storm</th>\n",
       "      <td>$50.76</td>\n",
       "      <td>$4.23</td>\n",
       "      <td>12</td>\n",
       "    </tr>\n",
       "    <tr>\n",
       "      <th>82</th>\n",
       "      <th>Nirvana</th>\n",
       "      <td>$44.10</td>\n",
       "      <td>$4.90</td>\n",
       "      <td>9</td>\n",
       "    </tr>\n",
       "    <tr>\n",
       "      <th>145</th>\n",
       "      <th>Fiery Glass Crusader</th>\n",
       "      <td>$41.22</td>\n",
       "      <td>$4.58</td>\n",
       "      <td>9</td>\n",
       "    </tr>\n",
       "    <tr>\n",
       "      <th>103</th>\n",
       "      <th>Singed Scalpel</th>\n",
       "      <td>$34.80</td>\n",
       "      <td>$4.35</td>\n",
       "      <td>8</td>\n",
       "    </tr>\n",
       "  </tbody>\n",
       "</table>\n",
       "</div>"
      ],
      "text/plain": [
       "                                                     Total Purchase Value  \\\n",
       "Item ID Item Name                                                           \n",
       "92      Final Critic                                               $59.99   \n",
       "178     Oathbreaker, Last Hope of the Breaking Storm               $50.76   \n",
       "82      Nirvana                                                    $44.10   \n",
       "145     Fiery Glass Crusader                                       $41.22   \n",
       "103     Singed Scalpel                                             $34.80   \n",
       "\n",
       "                                                     Item Price  \\\n",
       "Item ID Item Name                                                 \n",
       "92      Final Critic                                      $4.61   \n",
       "178     Oathbreaker, Last Hope of the Breaking Storm      $4.23   \n",
       "82      Nirvana                                           $4.90   \n",
       "145     Fiery Glass Crusader                              $4.58   \n",
       "103     Singed Scalpel                                    $4.35   \n",
       "\n",
       "                                                      Purchase Count  \n",
       "Item ID Item Name                                                     \n",
       "92      Final Critic                                              13  \n",
       "178     Oathbreaker, Last Hope of the Breaking Storm              12  \n",
       "82      Nirvana                                                    9  \n",
       "145     Fiery Glass Crusader                                       9  \n",
       "103     Singed Scalpel                                             8  "
      ]
     },
     "execution_count": 26,
     "metadata": {},
     "output_type": "execute_result"
    }
   ],
   "source": [
    "# Sorting the above table by total purchase value in descending order\n",
    "most_profitable_items = popular_items_df.sort_values(\"Total Purchase Value\", ascending=False)\n",
    "\n",
    "# Implementing clear formating\n",
    "most_profitable_items[\"Total Purchase Value\"] = most_profitable_items[\"Total Purchase Value\"].map(\"${:,.2f}\".format)\n",
    "most_profitable_items[\"Item Price\"] = most_profitable_items[\"Item Price\"].map(\"${:,.2f}\".format)\n",
    "\n",
    "# Displaying a preview of the data frame\n",
    "most_profitable_items.head(5)\n"
   ]
  },
  {
   "cell_type": "markdown",
   "metadata": {},
   "source": [
    "### Trend Analysis\n",
    "\n",
    " -   84% of the players are identified as male with the majority of the players being between the ages of 15 and 34.\n",
    " -   Even though  the purchasing data suggest that male players have made more in-game item purchases, female players have higher purchase per person and means they are more likely to purchase more expensive items.\n",
    " -   The group of players aged between 20-24 is the group that spends the most money. "
   ]
  }
 ],
 "metadata": {
  "anaconda-cloud": {},
  "kernel_info": {
   "name": "python3"
  },
  "kernelspec": {
   "display_name": "Python 3",
   "language": "python",
   "name": "python3"
  },
  "language_info": {
   "codemirror_mode": {
    "name": "ipython",
    "version": 3
   },
   "file_extension": ".py",
   "mimetype": "text/x-python",
   "name": "python",
   "nbconvert_exporter": "python",
   "pygments_lexer": "ipython3",
   "version": "3.6.10"
  },
  "latex_envs": {
   "LaTeX_envs_menu_present": true,
   "autoclose": false,
   "autocomplete": true,
   "bibliofile": "biblio.bib",
   "cite_by": "apalike",
   "current_citInitial": 1,
   "eqLabelWithNumbers": true,
   "eqNumInitial": 1,
   "hotkeys": {
    "equation": "Ctrl-E",
    "itemize": "Ctrl-I"
   },
   "labels_anchors": false,
   "latex_user_defs": false,
   "report_style_numbering": false,
   "user_envs_cfg": false
  },
  "nteract": {
   "version": "0.2.0"
  }
 },
 "nbformat": 4,
 "nbformat_minor": 2
}
